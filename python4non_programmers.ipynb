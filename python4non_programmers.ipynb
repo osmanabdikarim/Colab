{
  "nbformat": 4,
  "nbformat_minor": 0,
  "metadata": {
    "colab": {
      "provenance": [],
      "mount_file_id": "1-cjh7xsLRT-Diw3Pd8_H8f1Epjhz7gg8",
      "authorship_tag": "ABX9TyOvoEROTEw/M54jCQCMNnnL",
      "include_colab_link": true
    },
    "kernelspec": {
      "name": "python3",
      "display_name": "Python 3"
    },
    "language_info": {
      "name": "python"
    }
  },
  "cells": [
    {
      "cell_type": "markdown",
      "metadata": {
        "id": "view-in-github",
        "colab_type": "text"
      },
      "source": [
        "<a href=\"https://colab.research.google.com/github/osmanabdikarim/colab/blob/main/python4non_programmers.ipynb\" target=\"_parent\"><img src=\"https://colab.research.google.com/assets/colab-badge.svg\" alt=\"Open In Colab\"/></a>"
      ]
    },
    {
      "cell_type": "code",
      "execution_count": null,
      "metadata": {
        "colab": {
          "base_uri": "https://localhost:8080/"
        },
        "id": "4gxhepiyFvk0",
        "outputId": "8d20fef4-1a87-499f-8c25-9e1cc00cb516"
      },
      "outputs": [
        {
          "output_type": "stream",
          "name": "stdout",
          "text": [
            "hello world\n"
          ]
        }
      ],
      "source": [
        "print('hello world')"
      ]
    },
    {
      "cell_type": "code",
      "source": [
        "print('I love azubi africa')"
      ],
      "metadata": {
        "colab": {
          "base_uri": "https://localhost:8080/"
        },
        "id": "H7A2v28AG8DT",
        "outputId": "b36d3027-d742-4684-dd2e-59b21a4106bf"
      },
      "execution_count": null,
      "outputs": [
        {
          "output_type": "stream",
          "name": "stdout",
          "text": [
            "I love azubi africa\n"
          ]
        }
      ]
    },
    {
      "cell_type": "code",
      "source": [
        "fav = ('I love azubi africa')\n",
        "\n",
        "print(fav)"
      ],
      "metadata": {
        "colab": {
          "base_uri": "https://localhost:8080/"
        },
        "id": "9sMXpqZ3H2jx",
        "outputId": "147837bb-f53f-46c7-9ef2-df287c299d4c"
      },
      "execution_count": null,
      "outputs": [
        {
          "output_type": "stream",
          "name": "stdout",
          "text": [
            "I love azubi africa\n"
          ]
        }
      ]
    },
    {
      "cell_type": "code",
      "source": [
        "first_name= 'azubi'\n",
        "last_name= 'africa'\n",
        "\n",
        "print('my name is azubi africa')"
      ],
      "metadata": {
        "colab": {
          "base_uri": "https://localhost:8080/"
        },
        "id": "li0gWTaAKneS",
        "outputId": "b27c1a34-4a26-4e62-b198-7d9acc2e65c3"
      },
      "execution_count": null,
      "outputs": [
        {
          "output_type": "stream",
          "name": "stdout",
          "text": [
            "my name is azubi africa\n"
          ]
        }
      ]
    },
    {
      "cell_type": "code",
      "source": [
        "first_name= 'gibt'\n",
        "last_name= 'africa'\n",
        "\n",
        "print('my name is azubi africa')"
      ],
      "metadata": {
        "colab": {
          "base_uri": "https://localhost:8080/"
        },
        "id": "y2XJf2urK8ih",
        "outputId": "d1199189-93b3-4b84-d6fa-6e5aeac5e1c0"
      },
      "execution_count": null,
      "outputs": [
        {
          "output_type": "stream",
          "name": "stdout",
          "text": [
            "my name is azubi africa\n"
          ]
        }
      ]
    },
    {
      "cell_type": "code",
      "source": [
        "first_name= 'azubi'\n",
        "last_name= 'africa'\n",
        "\n",
        "print('my name is '  +  first_name +\" \"+ last_name)"
      ],
      "metadata": {
        "colab": {
          "base_uri": "https://localhost:8080/"
        },
        "id": "u575fgvPLxCQ",
        "outputId": "3ab98b6e-60d4-473f-fc38-eda2567e92ca"
      },
      "execution_count": null,
      "outputs": [
        {
          "output_type": "stream",
          "name": "stdout",
          "text": [
            "my name is azubi africa\n"
          ]
        }
      ]
    },
    {
      "cell_type": "code",
      "source": [
        "first_name= 'azubi'\n",
        "last_name= 'africa'\n",
        "\n",
        "print('my name is {first_name}{}')"
      ],
      "metadata": {
        "id": "Blgrd9SYOXFH"
      },
      "execution_count": null,
      "outputs": []
    },
    {
      "cell_type": "code",
      "source": [
        "full_name = 'jay me'\n",
        "print ('hello' , full_name)"
      ],
      "metadata": {
        "id": "IAOkzfrzOW_G",
        "colab": {
          "base_uri": "https://localhost:8080/"
        },
        "outputId": "d67fd67d-bbf7-49bb-e252-46135d49f286"
      },
      "execution_count": null,
      "outputs": [
        {
          "output_type": "stream",
          "name": "stdout",
          "text": [
            "hello jay me\n"
          ]
        }
      ]
    },
    {
      "cell_type": "code",
      "source": [
        "full_name = 'jay me'\n",
        "print (f'hello {full_name}')"
      ],
      "metadata": {
        "colab": {
          "base_uri": "https://localhost:8080/"
        },
        "id": "l5a6Nzjuykfl",
        "outputId": "de75c2ca-7851-4842-b6a2-e4b3e1a4f38f"
      },
      "execution_count": null,
      "outputs": [
        {
          "output_type": "stream",
          "name": "stdout",
          "text": [
            "hello jay me\n"
          ]
        }
      ]
    },
    {
      "cell_type": "code",
      "source": [
        "full_name = 'jay me'\n",
        "print ('hello {}' .format(full_name))"
      ],
      "metadata": {
        "colab": {
          "base_uri": "https://localhost:8080/"
        },
        "id": "bjbpZcCwzAEo",
        "outputId": "357a246d-e62b-4a64-aa05-3248b1a454d3"
      },
      "execution_count": null,
      "outputs": [
        {
          "output_type": "stream",
          "name": "stdout",
          "text": [
            "hello jay me\n"
          ]
        }
      ]
    },
    {
      "cell_type": "code",
      "source": [
        "origin, actual_country = \"cotedvore\", \"senegal\"\n",
        "print (\"I'm from {}, and I live in {}.\".format(origin, actual_country))"
      ],
      "metadata": {
        "colab": {
          "base_uri": "https://localhost:8080/"
        },
        "id": "7ZCN4nas2unc",
        "outputId": "3c33a37d-da5a-45e2-a3a0-d65a28e29fc1"
      },
      "execution_count": null,
      "outputs": [
        {
          "output_type": "stream",
          "name": "stdout",
          "text": [
            "I'm from cotedvore, and I live in senegal.\n"
          ]
        }
      ]
    },
    {
      "cell_type": "code",
      "source": [
        "full_name = 'jay me'\n",
        "print ('hello' , full_name, '..!')"
      ],
      "metadata": {
        "colab": {
          "base_uri": "https://localhost:8080/"
        },
        "id": "RBldKWYx0INN",
        "outputId": "33fb0b3a-563e-4ce4-b614-f0f148cdc390"
      },
      "execution_count": null,
      "outputs": [
        {
          "output_type": "stream",
          "name": "stdout",
          "text": [
            "hello jay me ..!\n"
          ]
        }
      ]
    },
    {
      "cell_type": "code",
      "source": [
        "help(print)"
      ],
      "metadata": {
        "colab": {
          "base_uri": "https://localhost:8080/"
        },
        "id": "T2QAekxY06GP",
        "outputId": "d221990c-5f1d-4fb9-8bd8-499d93bad735"
      },
      "execution_count": null,
      "outputs": [
        {
          "output_type": "stream",
          "name": "stdout",
          "text": [
            "Help on built-in function print in module builtins:\n",
            "\n",
            "print(...)\n",
            "    print(value, ..., sep=' ', end='\\n', file=sys.stdout, flush=False)\n",
            "    \n",
            "    Prints the values to a stream, or to sys.stdout by default.\n",
            "    Optional keyword arguments:\n",
            "    file:  a file-like object (stream); defaults to the current sys.stdout.\n",
            "    sep:   string inserted between values, default a space.\n",
            "    end:   string appended after the last value, default a newline.\n",
            "    flush: whether to forcibly flush the stream.\n",
            "\n"
          ]
        }
      ]
    },
    {
      "cell_type": "code",
      "source": [
        "typed_value =  input(\"please type your Height (in cm):\")\n",
        "print (f\"your height is : {typed_value} cm\")"
      ],
      "metadata": {
        "colab": {
          "base_uri": "https://localhost:8080/"
        },
        "id": "fFK7Alx91N4E",
        "outputId": "b6b7f224-4ad8-4945-8b9e-ff98495d3249"
      },
      "execution_count": null,
      "outputs": [
        {
          "output_type": "stream",
          "name": "stdout",
          "text": [
            "please type your Height (in cm):150\n",
            "your height is : 150 cm\n"
          ]
        }
      ]
    },
    {
      "cell_type": "code",
      "source": [
        "typed_fullname =  input(\"please type your Full name\\n\")\n",
        "print (f\"Welcome {typed_fullname} !!!\")"
      ],
      "metadata": {
        "colab": {
          "base_uri": "https://localhost:8080/"
        },
        "id": "i2N1sxt87rkx",
        "outputId": "ce481fad-d075-47ad-a46f-469ef9755023"
      },
      "execution_count": null,
      "outputs": [
        {
          "output_type": "stream",
          "name": "stdout",
          "text": [
            "please type your Full name\n",
            "jay\n",
            "Welcome jay !!!\n"
          ]
        }
      ]
    },
    {
      "cell_type": "code",
      "source": [
        "age_str = input(\"please enter your age\\n>>\") # get age in str format\n",
        "age = int(age_str) # convert age to an int value\n",
        "\n",
        "#COMPUTE PRICE\n",
        "#if age belongs to [0,16[\n",
        "if (age>=0) and (age<16):\n",
        "      price = 10 # price = price + 10\n",
        "      \n",
        "#if age belongs to [16,65[\n",
        "    elif (age>=16) and (age<65) :\n",
        "      price = 15 # price = price + 15\n",
        "\n",
        "#if age superior or equal to 65\n",
        "    elif (age >=65):\n",
        "      price = 25 # price = price + 25\n",
        "\n",
        "#else means age is inferior to 0\n",
        "    else :\n",
        "     price = 0\n",
        "\n",
        "#Print price\n",
        "    if price == 0 :\n",
        "     print (f\"sorry, something went wrong with the value you typed\")\n",
        "    else :\n",
        "     print (f\"The price for your ticket : {price}\")"
      ],
      "metadata": {
        "colab": {
          "base_uri": "https://localhost:8080/",
          "height": 130
        },
        "id": "prWKrAVITRvF",
        "outputId": "dedaebf1-862a-4ab6-ad08-7cff08e8ad30"
      },
      "execution_count": 78,
      "outputs": [
        {
          "output_type": "error",
          "ename": "IndentationError",
          "evalue": "ignored",
          "traceback": [
            "\u001b[0;36m  File \u001b[0;32m\"<tokenize>\"\u001b[0;36m, line \u001b[0;32m10\u001b[0m\n\u001b[0;31m    elif (age>=16) and (age<65) :\u001b[0m\n\u001b[0m    ^\u001b[0m\n\u001b[0;31mIndentationError\u001b[0m\u001b[0;31m:\u001b[0m unindent does not match any outer indentation level\n"
          ]
        }
      ]
    },
    {
      "cell_type": "code",
      "source": [
        "help (range)"
      ],
      "metadata": {
        "colab": {
          "base_uri": "https://localhost:8080/"
        },
        "id": "Bu_KjUp1gGUt",
        "outputId": "c3c320f1-c4f7-4358-cf5b-e5fcb07a8eb4"
      },
      "execution_count": 51,
      "outputs": [
        {
          "output_type": "stream",
          "name": "stdout",
          "text": [
            "Help on class range in module builtins:\n",
            "\n",
            "class range(object)\n",
            " |  range(stop) -> range object\n",
            " |  range(start, stop[, step]) -> range object\n",
            " |  \n",
            " |  Return an object that produces a sequence of integers from start (inclusive)\n",
            " |  to stop (exclusive) by step.  range(i, j) produces i, i+1, i+2, ..., j-1.\n",
            " |  start defaults to 0, and stop is omitted!  range(4) produces 0, 1, 2, 3.\n",
            " |  These are exactly the valid indices for a list of 4 elements.\n",
            " |  When step is given, it specifies the increment (or decrement).\n",
            " |  \n",
            " |  Methods defined here:\n",
            " |  \n",
            " |  __bool__(self, /)\n",
            " |      self != 0\n",
            " |  \n",
            " |  __contains__(self, key, /)\n",
            " |      Return key in self.\n",
            " |  \n",
            " |  __eq__(self, value, /)\n",
            " |      Return self==value.\n",
            " |  \n",
            " |  __ge__(self, value, /)\n",
            " |      Return self>=value.\n",
            " |  \n",
            " |  __getattribute__(self, name, /)\n",
            " |      Return getattr(self, name).\n",
            " |  \n",
            " |  __getitem__(self, key, /)\n",
            " |      Return self[key].\n",
            " |  \n",
            " |  __gt__(self, value, /)\n",
            " |      Return self>value.\n",
            " |  \n",
            " |  __hash__(self, /)\n",
            " |      Return hash(self).\n",
            " |  \n",
            " |  __iter__(self, /)\n",
            " |      Implement iter(self).\n",
            " |  \n",
            " |  __le__(self, value, /)\n",
            " |      Return self<=value.\n",
            " |  \n",
            " |  __len__(self, /)\n",
            " |      Return len(self).\n",
            " |  \n",
            " |  __lt__(self, value, /)\n",
            " |      Return self<value.\n",
            " |  \n",
            " |  __ne__(self, value, /)\n",
            " |      Return self!=value.\n",
            " |  \n",
            " |  __reduce__(...)\n",
            " |      Helper for pickle.\n",
            " |  \n",
            " |  __repr__(self, /)\n",
            " |      Return repr(self).\n",
            " |  \n",
            " |  __reversed__(...)\n",
            " |      Return a reverse iterator.\n",
            " |  \n",
            " |  count(...)\n",
            " |      rangeobject.count(value) -> integer -- return number of occurrences of value\n",
            " |  \n",
            " |  index(...)\n",
            " |      rangeobject.index(value) -> integer -- return index of value.\n",
            " |      Raise ValueError if the value is not present.\n",
            " |  \n",
            " |  ----------------------------------------------------------------------\n",
            " |  Static methods defined here:\n",
            " |  \n",
            " |  __new__(*args, **kwargs) from builtins.type\n",
            " |      Create and return a new object.  See help(type) for accurate signature.\n",
            " |  \n",
            " |  ----------------------------------------------------------------------\n",
            " |  Data descriptors defined here:\n",
            " |  \n",
            " |  start\n",
            " |  \n",
            " |  step\n",
            " |  \n",
            " |  stop\n",
            "\n"
          ]
        }
      ]
    },
    {
      "cell_type": "code",
      "source": [
        "a = 5\n",
        "for i in range(0, a):\n",
        "    print(i)"
      ],
      "metadata": {
        "colab": {
          "base_uri": "https://localhost:8080/"
        },
        "id": "fFSMC--fgPW1",
        "outputId": "7d6edbca-e0fe-43d7-b737-0e6565297e38"
      },
      "execution_count": 73,
      "outputs": [
        {
          "output_type": "stream",
          "name": "stdout",
          "text": [
            "0\n",
            "1\n",
            "2\n",
            "3\n",
            "4\n"
          ]
        }
      ]
    },
    {
      "cell_type": "code",
      "source": [
        "a = 5+1\n",
        "for i in range(0, a):\n",
        "      print(i)"
      ],
      "metadata": {
        "colab": {
          "base_uri": "https://localhost:8080/"
        },
        "id": "18q61bA3k0y4",
        "outputId": "ff6d64d7-8888-484f-9f3e-7688e59bf488"
      },
      "execution_count": 72,
      "outputs": [
        {
          "output_type": "stream",
          "name": "stdout",
          "text": [
            "0\n",
            "1\n",
            "2\n",
            "3\n",
            "4\n",
            "5\n"
          ]
        }
      ]
    },
    {
      "cell_type": "code",
      "source": [
        "a = 5\n",
        "for i in range(10):\n",
        "      print(i)"
      ],
      "metadata": {
        "colab": {
          "base_uri": "https://localhost:8080/"
        },
        "id": "yADyyz-amvmz",
        "outputId": "22c9847f-3186-412d-e277-c15df9b7d453"
      },
      "execution_count": 80,
      "outputs": [
        {
          "output_type": "stream",
          "name": "stdout",
          "text": [
            "0\n",
            "1\n",
            "2\n",
            "3\n",
            "4\n",
            "5\n",
            "6\n",
            "7\n",
            "8\n",
            "9\n"
          ]
        }
      ]
    },
    {
      "cell_type": "code",
      "source": [
        "full_names = [\"emmanuel kay\", \"marv too\" , \"leo leah\"]\n",
        "\n",
        "for fullname in full_names:\n",
        "      print(f\"I'm {fullname}, and I like python programming.\\n\")"
      ],
      "metadata": {
        "colab": {
          "base_uri": "https://localhost:8080/"
        },
        "id": "ImHOtwwMn68N",
        "outputId": "f1086453-dade-40e4-f3f4-d444f346da2e"
      },
      "execution_count": 81,
      "outputs": [
        {
          "output_type": "stream",
          "name": "stdout",
          "text": [
            "I'm emmanuel kay, and I like python programming.\n",
            "\n",
            "I'm marv too, and I like python programming.\n",
            "\n",
            "I'm leo leah, and I like python programming.\n",
            "\n"
          ]
        }
      ]
    },
    {
      "cell_type": "code",
      "source": [
        " count = 0\n",
        " while (count<5):\n",
        "   count = count + 1\n",
        "   print (\"we like python\")"
      ],
      "metadata": {
        "colab": {
          "base_uri": "https://localhost:8080/"
        },
        "id": "MiDWakWmrxHw",
        "outputId": "0a4b02c5-c2c1-4b15-c713-b6c38eed7476"
      },
      "execution_count": 84,
      "outputs": [
        {
          "output_type": "stream",
          "name": "stdout",
          "text": [
            "we like python\n",
            "we like python\n",
            "we like python\n",
            "we like python\n",
            "we like python\n"
          ]
        }
      ]
    },
    {
      "cell_type": "code",
      "source": [],
      "metadata": {
        "id": "m0ctH2gGvD0z"
      },
      "execution_count": null,
      "outputs": []
    },
    {
      "cell_type": "code",
      "source": [
        " = 10):\n",
        "   count = count + 1\n",
        "   print (\"we like python\")"
      ],
      "metadata": {
        "colab": {
          "base_uri": "https://localhost:8080/",
          "height": 130
        },
        "outputId": "b787874f-fe72-4b32-f233-5b7b6651b05c",
        "id": "vNZrvpaTvHev"
      },
      "execution_count": 85,
      "outputs": [
        {
          "output_type": "error",
          "ename": "SyntaxError",
          "evalue": "ignored",
          "traceback": [
            "\u001b[0;36m  File \u001b[0;32m\"<ipython-input-85-4e2ee0186de7>\"\u001b[0;36m, line \u001b[0;32m2\u001b[0m\n\u001b[0;31m    while (count= 10):\u001b[0m\n\u001b[0m                ^\u001b[0m\n\u001b[0;31mSyntaxError\u001b[0m\u001b[0;31m:\u001b[0m invalid syntax\n"
          ]
        }
      ]
    },
    {
      "cell_type": "code",
      "source": [
        " count = 0\n",
        " while (count<15):\n",
        "   count = count + 1\n",
        "   print (\"we like python\")"
      ],
      "metadata": {
        "colab": {
          "base_uri": "https://localhost:8080/"
        },
        "outputId": "8ec2bd75-d86b-48ce-f20b-09400ff16b94",
        "id": "PfgTHKzyvOuc"
      },
      "execution_count": 86,
      "outputs": [
        {
          "output_type": "stream",
          "name": "stdout",
          "text": [
            "we like python\n",
            "we like python\n",
            "we like python\n",
            "we like python\n",
            "we like python\n",
            "we like python\n",
            "we like python\n",
            "we like python\n",
            "we like python\n",
            "we like python\n",
            "we like python\n",
            "we like python\n",
            "we like python\n",
            "we like python\n",
            "we like python\n"
          ]
        }
      ]
    },
    {
      "cell_type": "code",
      "source": [],
      "metadata": {
        "id": "lIelswLhvTLV"
      },
      "execution_count": null,
      "outputs": []
    },
    {
      "cell_type": "code",
      "source": [
        " count = 0\n",
        " while (count<5):\n",
        "   count = count + 1\n",
        "   print (\"we like python\")\n",
        " print (\"End of my while loop\")"
      ],
      "metadata": {
        "colab": {
          "base_uri": "https://localhost:8080/"
        },
        "outputId": "f4d59a69-12ab-43a3-c2b3-46ccced95c37",
        "id": "_pA5wFZRvlSJ"
      },
      "execution_count": 88,
      "outputs": [
        {
          "output_type": "stream",
          "name": "stdout",
          "text": [
            "we like python\n",
            "we like python\n",
            "we like python\n",
            "we like python\n",
            "we like python\n",
            "End of my while loop\n"
          ]
        }
      ]
    },
    {
      "cell_type": "code",
      "source": [
        "for i in range (1,7):\n",
        "  for j in range(i):\n",
        "      print(i, end='')\n",
        "  print()"
      ],
      "metadata": {
        "colab": {
          "base_uri": "https://localhost:8080/"
        },
        "id": "XjiSeZhjyU9t",
        "outputId": "54e03913-6ab3-4a27-ecae-8221c15866a9"
      },
      "execution_count": 95,
      "outputs": [
        {
          "output_type": "stream",
          "name": "stdout",
          "text": [
            "1\n",
            "22\n",
            "333\n",
            "4444\n",
            "55555\n",
            "666666\n"
          ]
        }
      ]
    },
    {
      "cell_type": "code",
      "source": [],
      "metadata": {
        "id": "6xF3zBtWy5yZ"
      },
      "execution_count": null,
      "outputs": []
    }
  ]
}